{
 "cells": [
  {
   "cell_type": "markdown",
   "id": "479643ab",
   "metadata": {},
   "source": [
    "## Imports\n",
    "Importing important libraries"
   ]
  },
  {
   "cell_type": "code",
   "execution_count": 256,
   "id": "fd8203f9",
   "metadata": {},
   "outputs": [],
   "source": [
    "import pandas as pd\n",
    "import nltk\n",
    "from nltk.corpus import stopwords \n",
    "from nltk.stem import PorterStemmer\n",
    "from sklearn.feature_extraction.text import CountVectorizer\n",
    "from sklearn.feature_extraction.text import TfidfVectorizer\n",
    "from sklearn.model_selection import train_test_split\n",
    "from sklearn.preprocessing import LabelEncoder\n",
    "from sklearn.metrics import accuracy_score, classification_report\n",
    "from sklearn.linear_model import LogisticRegression\n",
    "from sklearn.pipeline import make_pipeline\n",
    "import re"
   ]
  },
  {
   "cell_type": "code",
   "execution_count": 257,
   "id": "fcb33dcf",
   "metadata": {
    "scrolled": true
   },
   "outputs": [
    {
     "data": {
      "text/html": [
       "<div>\n",
       "<style scoped>\n",
       "    .dataframe tbody tr th:only-of-type {\n",
       "        vertical-align: middle;\n",
       "    }\n",
       "\n",
       "    .dataframe tbody tr th {\n",
       "        vertical-align: top;\n",
       "    }\n",
       "\n",
       "    .dataframe thead th {\n",
       "        text-align: right;\n",
       "    }\n",
       "</style>\n",
       "<table border=\"1\" class=\"dataframe\">\n",
       "  <thead>\n",
       "    <tr style=\"text-align: right;\">\n",
       "      <th></th>\n",
       "      <th>labes</th>\n",
       "      <th>message</th>\n",
       "    </tr>\n",
       "  </thead>\n",
       "  <tbody>\n",
       "    <tr>\n",
       "      <th>0</th>\n",
       "      <td>ham</td>\n",
       "      <td>Go until jurong point, crazy.. Available only ...</td>\n",
       "    </tr>\n",
       "    <tr>\n",
       "      <th>1</th>\n",
       "      <td>ham</td>\n",
       "      <td>Ok lar... Joking wif u oni...</td>\n",
       "    </tr>\n",
       "    <tr>\n",
       "      <th>2</th>\n",
       "      <td>spam</td>\n",
       "      <td>Free entry in 2 a wkly comp to win FA Cup fina...</td>\n",
       "    </tr>\n",
       "    <tr>\n",
       "      <th>3</th>\n",
       "      <td>ham</td>\n",
       "      <td>U dun say so early hor... U c already then say...</td>\n",
       "    </tr>\n",
       "    <tr>\n",
       "      <th>4</th>\n",
       "      <td>ham</td>\n",
       "      <td>Nah I don't think he goes to usf, he lives aro...</td>\n",
       "    </tr>\n",
       "  </tbody>\n",
       "</table>\n",
       "</div>"
      ],
      "text/plain": [
       "  labes                                            message\n",
       "0   ham  Go until jurong point, crazy.. Available only ...\n",
       "1   ham                      Ok lar... Joking wif u oni...\n",
       "2  spam  Free entry in 2 a wkly comp to win FA Cup fina...\n",
       "3   ham  U dun say so early hor... U c already then say...\n",
       "4   ham  Nah I don't think he goes to usf, he lives aro..."
      ]
     },
     "execution_count": 257,
     "metadata": {},
     "output_type": "execute_result"
    }
   ],
   "source": [
    "# Importing data\n",
    "data = pd.read_csv('SMSSpamCollection',sep='\\t',names= ['labes','message'])\n",
    "data.head()"
   ]
  },
  {
   "cell_type": "code",
   "execution_count": 258,
   "id": "40a54bc1",
   "metadata": {},
   "outputs": [
    {
     "name": "stdout",
     "output_type": "stream",
     "text": [
      "<class 'pandas.core.frame.DataFrame'>\n",
      "RangeIndex: 5572 entries, 0 to 5571\n",
      "Data columns (total 2 columns):\n",
      " #   Column   Non-Null Count  Dtype \n",
      "---  ------   --------------  ----- \n",
      " 0   labes    5572 non-null   object\n",
      " 1   message  5572 non-null   object\n",
      "dtypes: object(2)\n",
      "memory usage: 87.2+ KB\n"
     ]
    }
   ],
   "source": [
    "data.info()"
   ]
  },
  {
   "cell_type": "markdown",
   "id": "449bdf3c",
   "metadata": {},
   "source": [
    "There is no null values in the data"
   ]
  },
  {
   "cell_type": "markdown",
   "id": "8fbb4dde",
   "metadata": {},
   "source": [
    "### Cleaning the data\n",
    "\n",
    "First we need to clean the data\n",
    "- lower case the data\n",
    "- Remove punctuations\n",
    "- Remove stop words\n",
    "- apply steaming"
   ]
  },
  {
   "cell_type": "code",
   "execution_count": 259,
   "id": "6821298a",
   "metadata": {},
   "outputs": [],
   "source": [
    "stop_words = stopwords.words('english')\n",
    "ps = PorterStemmer()"
   ]
  },
  {
   "cell_type": "code",
   "execution_count": 260,
   "id": "9be4dc58",
   "metadata": {},
   "outputs": [],
   "source": [
    "def clean_data(text):\n",
    "    # Removing punctuations and other unnessacery words\n",
    "    review = re.sub('[^a-zA-Z]',' ', text)\n",
    "    # Lowering data\n",
    "    review = review.lower()\n",
    "    \n",
    "    #Removing stop words and applying steaming\n",
    "    review = ' '.join([ps.stem(word) for word in review.split() if word not in stopwords.words('english')])\n",
    "        \n",
    "    return review\n",
    "    "
   ]
  },
  {
   "cell_type": "code",
   "execution_count": 261,
   "id": "c38ed106",
   "metadata": {},
   "outputs": [],
   "source": [
    "data['message'] = data['message'].apply(clean_data)"
   ]
  },
  {
   "cell_type": "markdown",
   "id": "d6952b3e",
   "metadata": {},
   "source": [
    "### Spliting data\n",
    "Now we need to separate features and target from the data and then split it into train test"
   ]
  },
  {
   "cell_type": "code",
   "execution_count": 262,
   "id": "74579180",
   "metadata": {},
   "outputs": [],
   "source": [
    "X = data['message']\n",
    "y = data['labes']"
   ]
  },
  {
   "cell_type": "code",
   "execution_count": 293,
   "id": "5f2c8763",
   "metadata": {},
   "outputs": [],
   "source": [
    "X_train, X_test, y_train, y_test = train_test_split(X, y, test_size=0.33, random_state=42)"
   ]
  },
  {
   "cell_type": "code",
   "execution_count": 294,
   "id": "5087afd6",
   "metadata": {},
   "outputs": [
    {
     "name": "stdout",
     "output_type": "stream",
     "text": [
      "shape of X_train is: (3733,)\n",
      "shape of X_test is: (1839,)\n",
      "\n",
      "Shape of y_train is: (3733,)\n",
      "Shape of y_test is: (1839,)\n"
     ]
    }
   ],
   "source": [
    "print('shape of X_train is:', X_train.shape)\n",
    "print('shape of X_test is:', X_test.shape)\n",
    "print('\\nShape of y_train is:',y_train.shape)\n",
    "print('Shape of y_test is:', y_test.shape)"
   ]
  },
  {
   "cell_type": "markdown",
   "id": "b2c46bf2",
   "metadata": {},
   "source": [
    "### Extracting features \n",
    "\n",
    "Now we need to extract features from data and feed it to model to train."
   ]
  },
  {
   "cell_type": "code",
   "execution_count": 295,
   "id": "642d3932",
   "metadata": {},
   "outputs": [],
   "source": [
    "count_vectorizer =CountVectorizer()\n",
    "le = LabelEncoder()"
   ]
  },
  {
   "cell_type": "code",
   "execution_count": 297,
   "id": "0449f5fc",
   "metadata": {},
   "outputs": [],
   "source": [
    "X_train_features = count_vectorizer.fit_transform(X_train)\n",
    "X_test_features = count_vectorizer.transform(X_test)\n",
    "\n",
    "y_train = le.fit_transform(y_train)\n",
    "y_test = le.transform(y_test)"
   ]
  },
  {
   "cell_type": "markdown",
   "id": "071fcf24",
   "metadata": {},
   "source": [
    "### Training model\n",
    "We will use logestic regression which is best for binary classification if the result it not good we will use other models"
   ]
  },
  {
   "cell_type": "code",
   "execution_count": 283,
   "id": "434c171c",
   "metadata": {},
   "outputs": [
    {
     "data": {
      "text/plain": [
       "LogisticRegression()"
      ]
     },
     "execution_count": 283,
     "metadata": {},
     "output_type": "execute_result"
    }
   ],
   "source": [
    "model = LogisticRegression()\n",
    "model.fit(X_train_features,y_train)"
   ]
  },
  {
   "cell_type": "markdown",
   "id": "eb21d917",
   "metadata": {},
   "source": [
    "### Evaluating the model"
   ]
  },
  {
   "cell_type": "code",
   "execution_count": 284,
   "id": "da8e0022",
   "metadata": {},
   "outputs": [],
   "source": [
    "train_pred = model.predict(X_train_features)\n",
    "test_pred = model.predict(X_test_features)"
   ]
  },
  {
   "cell_type": "code",
   "execution_count": 285,
   "id": "0a7a4cb1",
   "metadata": {},
   "outputs": [
    {
     "data": {
      "text/plain": [
       "0.996249665148674"
      ]
     },
     "execution_count": 285,
     "metadata": {},
     "output_type": "execute_result"
    }
   ],
   "source": [
    "accuracy_score(y_train,train_pred)"
   ]
  },
  {
   "cell_type": "code",
   "execution_count": 286,
   "id": "3bf38a1f",
   "metadata": {
    "scrolled": false
   },
   "outputs": [
    {
     "data": {
      "text/plain": [
       "0.9831430125067971"
      ]
     },
     "execution_count": 286,
     "metadata": {},
     "output_type": "execute_result"
    }
   ],
   "source": [
    "accuracy_score(y_test,test_pred)"
   ]
  },
  {
   "cell_type": "markdown",
   "id": "269fb41a",
   "metadata": {},
   "source": [
    "### Test you own message"
   ]
  },
  {
   "cell_type": "code",
   "execution_count": 310,
   "id": "b8996e36",
   "metadata": {},
   "outputs": [
    {
     "name": "stdout",
     "output_type": "stream",
     "text": [
      "This is a spam message\n"
     ]
    }
   ],
   "source": [
    "message = 'free entri wkli comp win fa cup final tkt st may text fa receiv entri question std txt rate c appli'\n",
    "\n",
    "#\n",
    "message = clean_data(message)\n",
    "\n",
    "message = count_vectorizer.transform([message])\n",
    "pred = model.predict(message)\n",
    "\n",
    "if pred ==[0]:\n",
    "    print('This is not a spam message')\n",
    "else:\n",
    "    print('This is a spam message')"
   ]
  }
 ],
 "metadata": {
  "kernelspec": {
   "display_name": "Python 3 (ipykernel)",
   "language": "python",
   "name": "python3"
  },
  "language_info": {
   "codemirror_mode": {
    "name": "ipython",
    "version": 3
   },
   "file_extension": ".py",
   "mimetype": "text/x-python",
   "name": "python",
   "nbconvert_exporter": "python",
   "pygments_lexer": "ipython3",
   "version": "3.9.7"
  }
 },
 "nbformat": 4,
 "nbformat_minor": 5
}
